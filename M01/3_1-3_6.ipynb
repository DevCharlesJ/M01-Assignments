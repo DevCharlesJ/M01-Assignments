{
 "cells": [
  {
   "cell_type": "code",
   "execution_count": 2,
   "id": "127c07f2",
   "metadata": {},
   "outputs": [
    {
     "data": {
      "text/plain": [
       "3600"
      ]
     },
     "execution_count": 2,
     "metadata": {},
     "output_type": "execute_result"
    }
   ],
   "source": [
    "60*60 # number of seconds in an hour"
   ]
  },
  {
   "cell_type": "code",
   "execution_count": 3,
   "id": "c708459d",
   "metadata": {},
   "outputs": [
    {
     "data": {
      "text/plain": [
       "86400"
      ]
     },
     "execution_count": 3,
     "metadata": {},
     "output_type": "execute_result"
    }
   ],
   "source": [
    "seconds_per_hour = 3600\n",
    "seconds_per_hour*24 # number of seconds in a day"
   ]
  },
  {
   "cell_type": "code",
   "execution_count": 6,
   "id": "2b07220b",
   "metadata": {},
   "outputs": [
    {
     "data": {
      "text/plain": [
       "24.0"
      ]
     },
     "execution_count": 6,
     "metadata": {},
     "output_type": "execute_result"
    }
   ],
   "source": [
    "seconds_per_day = seconds_per_hour*24\n",
    "seconds_per_day/seconds_per_hour # floating point division (using '/')"
   ]
  },
  {
   "cell_type": "code",
   "execution_count": 7,
   "id": "f20eee8a",
   "metadata": {},
   "outputs": [
    {
     "data": {
      "text/plain": [
       "24"
      ]
     },
     "execution_count": 7,
     "metadata": {},
     "output_type": "execute_result"
    }
   ],
   "source": [
    "seconds_per_day//seconds_per_hour # integer division (using '//')"
   ]
  },
  {
   "cell_type": "code",
   "execution_count": 9,
   "id": "3d21a078",
   "metadata": {},
   "outputs": [
    {
     "name": "stdout",
     "output_type": "stream",
     "text": [
      "Aside from the decimals, both floating point and integer divisions are equal!\n"
     ]
    }
   ],
   "source": [
    "print(\"Aside from the decimals, both floating point and integer divisions are equal!\")"
   ]
  },
  {
   "cell_type": "code",
   "execution_count": null,
   "id": "8efe117e",
   "metadata": {},
   "outputs": [],
   "source": []
  }
 ],
 "metadata": {
  "kernelspec": {
   "display_name": "Python 3 (ipykernel)",
   "language": "python",
   "name": "python3"
  },
  "language_info": {
   "codemirror_mode": {
    "name": "ipython",
    "version": 3
   },
   "file_extension": ".py",
   "mimetype": "text/x-python",
   "name": "python",
   "nbconvert_exporter": "python",
   "pygments_lexer": "ipython3",
   "version": "3.10.11"
  }
 },
 "nbformat": 4,
 "nbformat_minor": 5
}
