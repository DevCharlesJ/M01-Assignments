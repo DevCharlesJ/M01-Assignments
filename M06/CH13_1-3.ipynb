{
 "cells": [
  {
   "cell_type": "code",
   "execution_count": 24,
   "metadata": {},
   "outputs": [],
   "source": [
    "# PROBLEM 1\n",
    "\n",
    "from datetime import datetime\n",
    "\n",
    "current_date_str = str(datetime.now().date())\n",
    "today_file = \"today.txt\"\n",
    "\n",
    "with open(today_file, \"w\") as f:\n",
    "    f.write(current_date_str)"
   ]
  },
  {
   "cell_type": "code",
   "execution_count": 25,
   "metadata": {},
   "outputs": [],
   "source": [
    "# PROBLEM 2\n",
    "\n",
    "today_string = \"\"\n",
    "with open(today_file, \"r\") as f:\n",
    "    today_string = f.read()"
   ]
  },
  {
   "cell_type": "code",
   "execution_count": 26,
   "metadata": {},
   "outputs": [
    {
     "name": "stdout",
     "output_type": "stream",
     "text": [
      "2023-07-12 00:00:00\n"
     ]
    }
   ],
   "source": [
    "# PROBLEM 3\n",
    "\n",
    "# Parse date from 'today_string' to datetime obj\n",
    "# date() format is year-month-day\n",
    "asDate = datetime.strptime(today_string, \"%Y-%m-%d\")\n",
    "print(asDate) # 2023-07-12 00:00:00"
   ]
  }
 ],
 "metadata": {
  "kernelspec": {
   "display_name": "base",
   "language": "python",
   "name": "python3"
  },
  "language_info": {
   "codemirror_mode": {
    "name": "ipython",
    "version": 3
   },
   "file_extension": ".py",
   "mimetype": "text/x-python",
   "name": "python",
   "nbconvert_exporter": "python",
   "pygments_lexer": "ipython3",
   "version": "3.10.11"
  },
  "orig_nbformat": 4
 },
 "nbformat": 4,
 "nbformat_minor": 2
}
