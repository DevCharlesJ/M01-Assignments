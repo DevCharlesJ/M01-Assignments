{
 "cells": [
  {
   "cell_type": "code",
   "execution_count": 7,
   "metadata": {},
   "outputs": [],
   "source": [
    "# PROBLEM 1\n",
    "# Note: Multiprocessing only works in .py scripts\n",
    "\n",
    "from multiprocessing import Process\n",
    "import random\n",
    "import time\n",
    "\n",
    "def target_func():\n",
    "    time.sleep(random.random()) # sleep for 0-1 seconds\n",
    "\n",
    "    # Print the current time\n",
    "    print(f\"Current time: {time.strftime('%I:%m:%S %p', time.localtime())}\")\n",
    "\n",
    "if __name__ == '__main__':\n",
    "    processes = []\n",
    "    for i in range(3):\n",
    "        process = Process(target=target_func)\n",
    "        processes.append(process)\n",
    "        process.start()\n",
    "\n",
    "    # Join processes\n",
    "    for process in processes:\n",
    "        process.join()"
   ]
  }
 ],
 "metadata": {
  "kernelspec": {
   "display_name": "base",
   "language": "python",
   "name": "python3"
  },
  "language_info": {
   "codemirror_mode": {
    "name": "ipython",
    "version": 3
   },
   "file_extension": ".py",
   "mimetype": "text/x-python",
   "name": "python",
   "nbconvert_exporter": "python",
   "pygments_lexer": "ipython3",
   "version": "3.10.11"
  },
  "orig_nbformat": 4
 },
 "nbformat": 4,
 "nbformat_minor": 2
}
