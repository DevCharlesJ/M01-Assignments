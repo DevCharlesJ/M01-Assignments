{
 "cells": [
  {
   "cell_type": "code",
   "execution_count": 23,
   "metadata": {},
   "outputs": [
    {
     "name": "stdout",
     "output_type": "stream",
     "text": [
      "[]\n"
     ]
    }
   ],
   "source": [
    "# PROBLEM 8\n",
    "\n",
    "import sqlalchemy as sa\n",
    "\n",
    "# connect to books.db\n",
    "conn = sa.create_engine(\"sqlite:///books.db\").connect()\n",
    "\n",
    "def exec_text(conn, stmt:str):\n",
    "    return conn.execute(sa.text(stmt))\n",
    "\n",
    "try:\n",
    "    # create book table\n",
    "    exec_text(conn,\n",
    "            \"\"\"CREATE TABLE Book(\n",
    "                title VARCHAR(80),\n",
    "                author VARCHAR(80),\n",
    "                year INT)\"\"\" \n",
    "    )\n",
    "except: pass # Table may already exist\n",
    "\n",
    "\n",
    "# Query titles in alphebetical orders\n",
    "titles = exec_text(conn,\"SELECT title FROM Book ORDER BY title ASC\")\n",
    "\n",
    "print(titles.all())"
   ]
  }
 ],
 "metadata": {
  "kernelspec": {
   "display_name": "base",
   "language": "python",
   "name": "python3"
  },
  "language_info": {
   "codemirror_mode": {
    "name": "ipython",
    "version": 3
   },
   "file_extension": ".py",
   "mimetype": "text/x-python",
   "name": "python",
   "nbconvert_exporter": "python",
   "pygments_lexer": "ipython3",
   "version": "3.10.11"
  },
  "orig_nbformat": 4
 },
 "nbformat": 4,
 "nbformat_minor": 2
}
